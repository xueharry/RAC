{
 "cells": [
  {
   "cell_type": "code",
   "execution_count": 35,
   "metadata": {
    "collapsed": true
   },
   "outputs": [],
   "source": [
    "import numpy as np\n",
    "import pandas as pd\n",
    "from tqdm import tqdm_notebook\n",
    "from seaborn import heatmap\n",
    "import matplotlib.pyplot as plt\n",
    "from collections import OrderedDict\n",
    "import os\n",
    "import re\n",
    "import operator\n",
    "%matplotlib inline"
   ]
  },
  {
   "cell_type": "code",
   "execution_count": 13,
   "metadata": {
    "collapsed": true
   },
   "outputs": [],
   "source": [
    "good_aliases = pd.read_csv('aliases/goods.csv', header=None)\n",
    "good_terms = good_aliases[0].tolist()"
   ]
  },
  {
   "cell_type": "code",
   "execution_count": 16,
   "metadata": {},
   "outputs": [],
   "source": [
    "# Load data\n",
    "df = pd.read_csv('csv/metadata_text_merged_cleaned.csv')\n",
    "texts = df['text_cleaned_dealiased'].tolist()"
   ]
  },
  {
   "cell_type": "code",
   "execution_count": 17,
   "metadata": {
    "collapsed": true
   },
   "outputs": [],
   "source": [
    "# Create dictionary of dictionaries corresponding to pairs of items\n",
    "item_pair_counts = {}\n",
    "\n",
    "for good_name in good_terms:\n",
    "    item_pair_counts[good_name] = {}\n",
    "    \n",
    "for key in item_pair_counts.keys():\n",
    "    for good_name in good_terms:\n",
    "        item_pair_counts[key][good_name] = 0"
   ]
  },
  {
   "cell_type": "code",
   "execution_count": 18,
   "metadata": {},
   "outputs": [
    {
     "data": {
      "application/vnd.jupyter.widget-view+json": {
       "model_id": "24bfa96f1fb84f37b549515cb6e87aab",
       "version_major": 2,
       "version_minor": 0
      },
      "text/plain": [
       "A Jupyter Widget"
      ]
     },
     "metadata": {},
     "output_type": "display_data"
    },
    {
     "name": "stdout",
     "output_type": "stream",
     "text": [
      "\n"
     ]
    }
   ],
   "source": [
    "# Iterate over texts and fill in matrix\n",
    "for text in tqdm_notebook(texts):\n",
    "    # Boolean dict of dicts for explored pairs\n",
    "    explored = {}\n",
    "    \n",
    "    for good_name in good_terms:\n",
    "        explored[good_name] = {}\n",
    "    \n",
    "    for key in explored.keys():\n",
    "        for good_name in good_terms:\n",
    "            explored[key][good_name] = False\n",
    "    \n",
    "    \n",
    "    for good1 in good_terms:\n",
    "        for good2 in good_terms:\n",
    "            if good1 != good2:\n",
    "                if explored[good1][good2] is False and explored[good2][good1] is False and good1 in text and good2 in text:\n",
    "                    # Update counts\n",
    "                    item_pair_counts[good1][good2] += 1\n",
    "                    item_pair_counts[good2][good1] += 1\n",
    "                    \n",
    "                    # Mark as explored\n",
    "                    explored[good1][good2] = True\n",
    "                    explored[good2][good1] = True"
   ]
  },
  {
   "cell_type": "code",
   "execution_count": 19,
   "metadata": {
    "collapsed": true
   },
   "outputs": [],
   "source": [
    "count_matrix = pd.DataFrame(item_pair_counts)"
   ]
  },
  {
   "cell_type": "code",
   "execution_count": 20,
   "metadata": {},
   "outputs": [
    {
     "data": {
      "text/plain": [
       "<matplotlib.axes._subplots.AxesSubplot at 0x1a0b73bd10>"
      ]
     },
     "execution_count": 20,
     "metadata": {},
     "output_type": "execute_result"
    },
    {
     "data": {
      "image/png": "[encoded data removed]",
      "text/plain": [
       "<matplotlib.figure.Figure at 0x1a0b73b390>"
      ]
     },
     "metadata": {},
     "output_type": "display_data"
    }
   ],
   "source": [
    "heatmap(count_matrix)"
   ]
  },
  {
   "cell_type": "code",
   "execution_count": 44,
   "metadata": {},
   "outputs": [],
   "source": [
    "pair_freq = {}\n",
    "\n",
    "for key1 in item_pair_counts:\n",
    "    for key2 in item_pair_counts[key1]:\n",
    "        if key1 != key2 and '{}-{}'.format(key2, key1) not in pair_freq.keys():\n",
    "            pair_freq['{}-{}'.format(key1, key2)] = item_pair_counts[key1][key2]"
   ]
  },
  {
   "cell_type": "code",
   "execution_count": 46,
   "metadata": {
    "scrolled": false
   },
   "outputs": [
    {
     "data": {
      "text/plain": [
       "[('bars-iron', 313),\n",
       " ('says-iron', 126),\n",
       " ('bars-says', 94),\n",
       " ('rum-iron', 73),\n",
       " ('guns-iron', 63),\n",
       " ('says-sletias', 59),\n",
       " ('sletias-iron', 55),\n",
       " ('bars-sletias', 53),\n",
       " ('tapseils-niconees', 51),\n",
       " ('bars-rum', 50),\n",
       " ('says-niconees', 49),\n",
       " ('niconees-iron', 48),\n",
       " ('tapseils-says', 47),\n",
       " ('says-rum', 47),\n",
       " ('says-guns', 41),\n",
       " ('brandy-iron', 40),\n",
       " ('tapseils-sletias', 39),\n",
       " ('says-brandy', 39),\n",
       " ('times-iron', 39),\n",
       " ('bars-brandy', 37),\n",
       " ('bars-niconees', 36),\n",
       " ('tapseils-iron', 36),\n",
       " ('plains-iron', 34),\n",
       " ('says-plains', 33),\n",
       " ('knives-iron', 33)]"
      ]
     },
     "execution_count": 46,
     "metadata": {},
     "output_type": "execute_result"
    }
   ],
   "source": [
    "sorted(pair_freq.items(), key=operator.itemgetter(1), reverse=True)[:25]"
   ]
  },
  {
   "cell_type": "code",
   "execution_count": null,
   "metadata": {
    "collapsed": true
   },
   "outputs": [],
   "source": []
  }
 ],
 "metadata": {
  "kernelspec": {
   "display_name": "Python 2",
   "language": "python",
   "name": "python2"
  },
  "language_info": {
   "codemirror_mode": {
    "name": "ipython",
    "version": 2
   },
   "file_extension": ".py",
   "mimetype": "text/x-python",
   "name": "python",
   "nbconvert_exporter": "python",
   "pygments_lexer": "ipython2",
   "version": "2.7.13"
  }
 },
 "nbformat": 4,
 "nbformat_minor": 2
}
