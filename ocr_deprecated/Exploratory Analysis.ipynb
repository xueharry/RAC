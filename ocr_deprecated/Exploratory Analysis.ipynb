{
 "cells": [
  {
   "cell_type": "code",
   "execution_count": 2,
   "metadata": {
    "collapsed": true
   },
   "outputs": [],
   "source": [
    "from gensim.models import Word2Vec\n",
    "import numpy as np\n",
    "import pandas as pd\n",
    "import matplotlib.pyplot as plt\n",
    "%matplotlib inline"
   ]
  },
  {
   "cell_type": "code",
   "execution_count": 3,
   "metadata": {},
   "outputs": [],
   "source": [
    "# Load joined dataframe\n",
    "df = pd.read_csv('csv/metadata_text_merged.csv')\n",
    "# Remove rows with empty text column for now\n",
    "df = df.dropna(subset=['text'])"
   ]
  },
  {
   "cell_type": "markdown",
   "metadata": {},
   "source": [
    "# Word2Vec embeddings\n",
    "See https://en.wikipedia.org/wiki/Word2vec for reference"
   ]
  },
  {
   "cell_type": "code",
   "execution_count": 30,
   "metadata": {},
   "outputs": [
    {
     "name": "stdout",
     "output_type": "stream",
     "text": [
      "Word2Vec(vocab=29780, size=100, alpha=0.025)\n"
     ]
    }
   ],
   "source": [
    "# Train word2vec model to produce word embeddings based on our corpus\n",
    "\n",
    "# define training data\n",
    "# for now, split on whitespace\n",
    "# TODO: Fancier preprocessing i.e. punctuation handling, stemming, lemmatization\n",
    "sentences = [letter.lower().split() for letter in df['text'].tolist()]# train model\n",
    "model = Word2Vec(sentences, min_count=1)\n",
    "# summarize the loaded model\n",
    "print(model)\n",
    "# save model\n",
    "# model.save('model.bin')\n",
    "# load model\n",
    "# new_model = Word2Vec.load('model.bin')"
   ]
  },
  {
   "cell_type": "code",
   "execution_count": 40,
   "metadata": {},
   "outputs": [
    {
     "data": {
      "text/plain": [
       "[('complement', 0.9938825368881226),\n",
       " ('carried', 0.9921998977661133),\n",
       " ('antea', 0.9920914173126221),\n",
       " ('guidah', 0.9918373823165894),\n",
       " ('commenda', 0.991675853729248),\n",
       " ('panyard', 0.9913508892059326),\n",
       " ('carrying', 0.9912232160568237),\n",
       " ('french', 0.9911662936210632),\n",
       " ('water', 0.9903877973556519),\n",
       " ('severall', 0.9901396036148071)]"
      ]
     },
     "execution_count": 40,
     "metadata": {},
     "output_type": "execute_result"
    }
   ],
   "source": [
    "# Get closest words in vector space to pyrate\n",
    "model.wv.most_similar('pyrate')"
   ]
  },
  {
   "cell_type": "markdown",
   "metadata": {},
   "source": [
    "# Toy Task: Analysis of the use of the word ''pyrate''\n"
   ]
  },
  {
   "cell_type": "code",
   "execution_count": 4,
   "metadata": {
    "collapsed": true
   },
   "outputs": [],
   "source": [
    "# Create indicator column for whether the word 'pyrate' is included in a given letter\n",
    "df['pyrate'] = df['text'].apply(lambda text: True if ('pyrate' in text or 'pyrat' in text) else False)"
   ]
  },
  {
   "cell_type": "code",
   "execution_count": 5,
   "metadata": {},
   "outputs": [
    {
     "data": {
      "text/plain": [
       "52"
      ]
     },
     "execution_count": 5,
     "metadata": {},
     "output_type": "execute_result"
    }
   ],
   "source": [
    "sum(df['pyrate'])"
   ]
  },
  {
   "cell_type": "code",
   "execution_count": 6,
   "metadata": {
    "collapsed": true
   },
   "outputs": [],
   "source": [
    "# Subset for letters containing mention of pyrate\n",
    "pyrate_subset = df[df['pyrate'] == True]"
   ]
  },
  {
   "cell_type": "code",
   "execution_count": 7,
   "metadata": {},
   "outputs": [
    {
     "data": {
      "text/html": [
       "<div>\n",
       "<style>\n",
       "    .dataframe thead tr:only-child th {\n",
       "        text-align: right;\n",
       "    }\n",
       "\n",
       "    .dataframe thead th {\n",
       "        text-align: left;\n",
       "    }\n",
       "\n",
       "    .dataframe tbody tr th {\n",
       "        vertical-align: top;\n",
       "    }\n",
       "</style>\n",
       "<table border=\"1\" class=\"dataframe\">\n",
       "  <thead>\n",
       "    <tr style=\"text-align: right;\">\n",
       "      <th></th>\n",
       "      <th>UID</th>\n",
       "      <th>Vol</th>\n",
       "      <th>LetterNo</th>\n",
       "      <th>Sender</th>\n",
       "      <th>Place Sent From</th>\n",
       "      <th>Ship Name</th>\n",
       "      <th>Place Going To</th>\n",
       "      <th>Date</th>\n",
       "      <th>Boat/Fort</th>\n",
       "      <th>RAC/Other Nation</th>\n",
       "      <th>text</th>\n",
       "      <th>section_title</th>\n",
       "      <th>pyrate</th>\n",
       "    </tr>\n",
       "  </thead>\n",
       "  <tbody>\n",
       "    <tr>\n",
       "      <th>5</th>\n",
       "      <td>5</td>\n",
       "      <td>1</td>\n",
       "      <td>5</td>\n",
       "      <td>Mark Bedford Whiting</td>\n",
       "      <td>Sekondi</td>\n",
       "      <td>NaN</td>\n",
       "      <td>Cape Coast Castle</td>\n",
       "      <td>27/06/1683</td>\n",
       "      <td>Fort</td>\n",
       "      <td>RAC</td>\n",
       "      <td>Just now arrived a canoe from Axim whoe inform...</td>\n",
       "      <td>5. Mark Bedford Whiting Succondee Factory, 27 ...</td>\n",
       "      <td>True</td>\n",
       "    </tr>\n",
       "    <tr>\n",
       "      <th>6</th>\n",
       "      <td>6</td>\n",
       "      <td>1</td>\n",
       "      <td>6</td>\n",
       "      <td>Mark Bedford Whiting</td>\n",
       "      <td>Sekondi</td>\n",
       "      <td>NaN</td>\n",
       "      <td>Cape Coast Castle</td>\n",
       "      <td>30/06/1683</td>\n",
       "      <td>Fort</td>\n",
       "      <td>RAC</td>\n",
       "      <td>Your Worships of the 28th instant I have per t...</td>\n",
       "      <td>6. Marke Bedford Whiting Succondee Factory, 30...</td>\n",
       "      <td>True</td>\n",
       "    </tr>\n",
       "    <tr>\n",
       "      <th>8</th>\n",
       "      <td>7</td>\n",
       "      <td>1</td>\n",
       "      <td>7</td>\n",
       "      <td>Mark Bedford Whiting</td>\n",
       "      <td>Sekondi</td>\n",
       "      <td>NaN</td>\n",
       "      <td>Cape Coast Castle</td>\n",
       "      <td>02/07/1683</td>\n",
       "      <td>Fort</td>\n",
       "      <td>RAC</td>\n",
       "      <td>This is to acquaint your Worship that just now...</td>\n",
       "      <td>7. Marke Bedford Whiting Succondee Factory, 2 ...</td>\n",
       "      <td>True</td>\n",
       "    </tr>\n",
       "    <tr>\n",
       "      <th>10</th>\n",
       "      <td>8</td>\n",
       "      <td>1</td>\n",
       "      <td>8</td>\n",
       "      <td>Mark Bedford Whiting</td>\n",
       "      <td>Sekondi</td>\n",
       "      <td>NaN</td>\n",
       "      <td>Cape Coast Castle</td>\n",
       "      <td>09/07/1683</td>\n",
       "      <td>Fort</td>\n",
       "      <td>RAC</td>\n",
       "      <td>YourWorships letter per the 9 hand canoe is co...</td>\n",
       "      <td>8. Marke Bedford Whiting Succondee Facto ry, 9...</td>\n",
       "      <td>True</td>\n",
       "    </tr>\n",
       "    <tr>\n",
       "      <th>342</th>\n",
       "      <td>350</td>\n",
       "      <td>1</td>\n",
       "      <td>350</td>\n",
       "      <td>Richard Thelwall</td>\n",
       "      <td>Anomabu</td>\n",
       "      <td>NaN</td>\n",
       "      <td>Cape Coast Castle</td>\n",
       "      <td>20/06/1683</td>\n",
       "      <td>Fort</td>\n",
       "      <td>RAC</td>\n",
       "      <td>lnclosed is May months account and alsoe the r...</td>\n",
       "      <td>350. Richard Thelwall Annamaboe, 20 June 1683</td>\n",
       "      <td>True</td>\n",
       "    </tr>\n",
       "  </tbody>\n",
       "</table>\n",
       "</div>"
      ],
      "text/plain": [
       "     UID  Vol  LetterNo                Sender Place Sent From Ship Name  \\\n",
       "5      5    1         5  Mark Bedford Whiting         Sekondi       NaN   \n",
       "6      6    1         6  Mark Bedford Whiting         Sekondi       NaN   \n",
       "8      7    1         7  Mark Bedford Whiting         Sekondi       NaN   \n",
       "10     8    1         8  Mark Bedford Whiting         Sekondi       NaN   \n",
       "342  350    1       350      Richard Thelwall         Anomabu       NaN   \n",
       "\n",
       "        Place Going To        Date Boat/Fort RAC/Other Nation  \\\n",
       "5    Cape Coast Castle  27/06/1683      Fort              RAC   \n",
       "6    Cape Coast Castle  30/06/1683      Fort              RAC   \n",
       "8    Cape Coast Castle  02/07/1683      Fort              RAC   \n",
       "10   Cape Coast Castle  09/07/1683      Fort              RAC   \n",
       "342  Cape Coast Castle  20/06/1683      Fort              RAC   \n",
       "\n",
       "                                                  text  \\\n",
       "5    Just now arrived a canoe from Axim whoe inform...   \n",
       "6    Your Worships of the 28th instant I have per t...   \n",
       "8    This is to acquaint your Worship that just now...   \n",
       "10   YourWorships letter per the 9 hand canoe is co...   \n",
       "342  lnclosed is May months account and alsoe the r...   \n",
       "\n",
       "                                         section_title  pyrate  \n",
       "5    5. Mark Bedford Whiting Succondee Factory, 27 ...    True  \n",
       "6    6. Marke Bedford Whiting Succondee Factory, 30...    True  \n",
       "8    7. Marke Bedford Whiting Succondee Factory, 2 ...    True  \n",
       "10   8. Marke Bedford Whiting Succondee Facto ry, 9...    True  \n",
       "342      350. Richard Thelwall Annamaboe, 20 June 1683    True  "
      ]
     },
     "execution_count": 7,
     "metadata": {},
     "output_type": "execute_result"
    }
   ],
   "source": [
    "pyrate_subset.head()"
   ]
  },
  {
   "cell_type": "code",
   "execution_count": 8,
   "metadata": {},
   "outputs": [
    {
     "data": {
      "text/plain": [
       "<matplotlib.axes._subplots.AxesSubplot at 0x1099d2450>"
      ]
     },
     "execution_count": 8,
     "metadata": {},
     "output_type": "execute_result"
    },
    {
     "data": {
      "image/png": "[encoded data removed]",
      "text/plain": [
       "<matplotlib.figure.Figure at 0x118c14c10>"
      ]
     },
     "metadata": {},
     "output_type": "display_data"
    }
   ],
   "source": [
    "pyrate_subset['Place Sent From'].value_counts().plot(kind='barh')"
   ]
  },
  {
   "cell_type": "code",
   "execution_count": 9,
   "metadata": {},
   "outputs": [
    {
     "data": {
      "text/plain": [
       "<matplotlib.axes._subplots.AxesSubplot at 0x1a19d33d10>"
      ]
     },
     "execution_count": 9,
     "metadata": {},
     "output_type": "execute_result"
    },
    {
     "data": {
      "image/png": "[encoded data removed]",
      "text/plain": [
       "<matplotlib.figure.Figure at 0x1a19d9df10>"
      ]
     },
     "metadata": {},
     "output_type": "display_data"
    }
   ],
   "source": [
    "pyrate_subset['Sender'].value_counts().plot(kind='barh')"
   ]
  },
  {
   "cell_type": "code",
   "execution_count": 10,
   "metadata": {},
   "outputs": [
    {
     "data": {
      "text/plain": [
       "<matplotlib.axes._subplots.AxesSubplot at 0x1a1a178850>"
      ]
     },
     "execution_count": 10,
     "metadata": {},
     "output_type": "execute_result"
    },
    {
     "data": {
      "image/png": "[encoded data removed]",
      "text/plain": [
       "<matplotlib.figure.Figure at 0x1a1a18f050>"
      ]
     },
     "metadata": {},
     "output_type": "display_data"
    }
   ],
   "source": [
    "pyrate_subset['Boat/Fort'].value_counts().plot(kind='barh')"
   ]
  },
  {
   "cell_type": "code",
   "execution_count": null,
   "metadata": {
    "collapsed": true
   },
   "outputs": [],
   "source": []
  }
 ],
 "metadata": {
  "kernelspec": {
   "display_name": "Python 2",
   "language": "python",
   "name": "python2"
  },
  "language_info": {
   "codemirror_mode": {
    "name": "ipython",
    "version": 2
   },
   "file_extension": ".py",
   "mimetype": "text/x-python",
   "name": "python",
   "nbconvert_exporter": "python",
   "pygments_lexer": "ipython2",
   "version": "2.7.13"
  }
 },
 "nbformat": 4,
 "nbformat_minor": 2
}
