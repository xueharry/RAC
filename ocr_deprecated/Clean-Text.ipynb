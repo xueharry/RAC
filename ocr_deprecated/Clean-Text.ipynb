{
 "cells": [
  {
   "cell_type": "code",
   "execution_count": 1,
   "metadata": {
    "collapsed": true
   },
   "outputs": [],
   "source": [
    "import pandas as pd"
   ]
  },
  {
   "cell_type": "markdown",
   "metadata": {},
   "source": [
    "# Automatically clean section titles mistakenly included in text body"
   ]
  },
  {
   "cell_type": "code",
   "execution_count": 69,
   "metadata": {},
   "outputs": [],
   "source": [
    "def locate_section_title(text):\n",
    "    '''Helper function to split a text body where part of the section title is mistakenly\n",
    "       included in the text body\n",
    "       \n",
    "        Args:\n",
    "           text: text body to split\n",
    "        Returns:\n",
    "            (section_title, corrected_text) tuple\n",
    "    '''\n",
    "    # Counter for block of 4 contiguous letters to identify end of section title\n",
    "    year_counter = 0\n",
    "    \n",
    "    for ind, char in enumerate(text):\n",
    "        if str.isdigit(char):\n",
    "            year_counter += 1\n",
    "            \n",
    "            # If 4 contiguous digits found, we've located where to split the string\n",
    "            if year_counter == 4:\n",
    "                # Check for edge case of /digit\n",
    "                if text[ind + 1] == '/' and str.isdigit(text[ind + 2]):\n",
    "                    return text[:ind+3], text[ind+3:].strip()\n",
    "                else:\n",
    "                    return text[:ind+1], text[ind+1:].strip()\n",
    "        else:\n",
    "            year_counter = 0\n",
    "        \n",
    "    # No splitting point found\n",
    "    return None, None"
   ]
  },
  {
   "cell_type": "code",
   "execution_count": 102,
   "metadata": {
    "collapsed": true
   },
   "outputs": [],
   "source": [
    "# Load csv file to clean\n",
    "df = pd.read_csv('csv/segmented_manually_cleaned.csv')"
   ]
  },
  {
   "cell_type": "code",
   "execution_count": 103,
   "metadata": {},
   "outputs": [],
   "source": [
    "# Apply splitting function to fix section titles and text\n",
    "for ind, row in df.iterrows():\n",
    "    if len(row['section_title'].strip()) < 5:\n",
    "        # Apply splitting function\n",
    "        title_segment, text = locate_section_title(row['text'])\n",
    "        \n",
    "        if title_segment is not None:\n",
    "            if row['section_title'].strip()[-1] == '.':\n",
    "                df.loc[ind]['section_title'] += ' ' + title_segment\n",
    "            elif str.isdigit(row['section_title'].strip()[-1]):\n",
    "                df.loc[ind]['section_title'] += '. ' + title_segment\n",
    "            df.loc[ind]['text'] = text"
   ]
  },
  {
   "cell_type": "code",
   "execution_count": 104,
   "metadata": {},
   "outputs": [],
   "source": [
    "df.to_csv('csv/segmented_cleaned.csv', index=False)"
   ]
  }
 ],
 "metadata": {
  "kernelspec": {
   "display_name": "Python 2",
   "language": "python",
   "name": "python2"
  },
  "language_info": {
   "codemirror_mode": {
    "name": "ipython",
    "version": 2
   },
   "file_extension": ".py",
   "mimetype": "text/x-python",
   "name": "python",
   "nbconvert_exporter": "python",
   "pygments_lexer": "ipython2",
   "version": "2.7.13"
  }
 },
 "nbformat": 4,
 "nbformat_minor": 2
}
