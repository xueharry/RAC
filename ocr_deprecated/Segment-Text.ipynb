{
 "cells": [
  {
   "cell_type": "code",
   "execution_count": 1,
   "metadata": {
    "collapsed": true
   },
   "outputs": [],
   "source": [
    "import os\n",
    "import re\n",
    "import pandas as pd\n",
    "from dateparser import parse\n",
    "\n",
    "import matplotlib.pyplot as plt\n",
    "%matplotlib inline"
   ]
  },
  {
   "cell_type": "code",
   "execution_count": 96,
   "metadata": {
    "collapsed": true
   },
   "outputs": [],
   "source": [
    "SCAN_BASE_DIR = 'First Law Scans Cropped/'\n",
    "SCAN_DIRS = [SCAN_BASE_DIR + subdir + '/' for subdir in os.listdir(SCAN_BASE_DIR) if '.DS_Store' not in subdir]"
   ]
  },
  {
   "cell_type": "code",
   "execution_count": 98,
   "metadata": {
    "collapsed": true
   },
   "outputs": [],
   "source": [
    "counter = 0\n",
    "\n",
    "# Regex for letter number heading\n",
    "letter_number_pattern = re.compile('^\\d+\\..*$')\n",
    "\n",
    "# Initialize empty dataframe for storing segmented text\n",
    "df = pd.DataFrame()\n",
    "\n",
    "for volume_dir in SCAN_DIRS:\n",
    "    id2filename = {}\n",
    "    \n",
    "    # Associate each filename with its numbered id\n",
    "    # so we can iterate in order through the files\n",
    "    for filename in os.listdir(volume_dir):\n",
    "        if '.txt' in filename:\n",
    "            id = filename.split('_')[0]\n",
    "            id2filename[int(id)] = filename\n",
    "    \n",
    "    for filename in id2filename.values():\n",
    "        with open(volume_dir + filename, 'r') as f:\n",
    "            contents = \"\"\n",
    "            \n",
    "            # TODO: Figure out why this hacky workaround is needed for reading the txt file\n",
    "            # Likely Jupyter environment issue\n",
    "            for line in f.readlines():\n",
    "                contents += line\n",
    "            \n",
    "            contents_list = contents.split('\\r')\n",
    "            \n",
    "            ptr = 0\n",
    "            num_lines = len(contents_list)\n",
    "\n",
    "            while ptr < num_lines:\n",
    "                # Look for section heading\n",
    "                if letter_number_pattern.match(contents_list[ptr]):\n",
    "                    section_title = contents_list[ptr]\n",
    "                    \n",
    "                    # Initialize string buffer for storing text for this section\n",
    "                    text_buffer = ''\n",
    "                    ptr += 1\n",
    "\n",
    "                    # Move pointer forward until next section heading or end of file encountered\n",
    "                    while ptr < num_lines and letter_number_pattern.match(contents_list[ptr]) is None:\n",
    "                        text_buffer += contents_list[ptr]\n",
    "                        ptr += 1\n",
    "\n",
    "                    # Append to dataframe\n",
    "                    df = df.append({\n",
    "                                    'filename': filename,\n",
    "                                    'section_title': section_title,\n",
    "                                    'text': text_buffer,\n",
    "                                    }, \n",
    "                                    ignore_index=True)\n",
    "\n",
    "                # Otherwise advance pointer\n",
    "                else:\n",
    "                    ptr += 1\n"
   ]
  },
  {
   "cell_type": "code",
   "execution_count": 99,
   "metadata": {},
   "outputs": [
    {
     "data": {
      "text/html": [
       "<div>\n",
       "<style>\n",
       "    .dataframe thead tr:only-child th {\n",
       "        text-align: right;\n",
       "    }\n",
       "\n",
       "    .dataframe thead th {\n",
       "        text-align: left;\n",
       "    }\n",
       "\n",
       "    .dataframe tbody tr th {\n",
       "        vertical-align: top;\n",
       "    }\n",
       "</style>\n",
       "<table border=\"1\" class=\"dataframe\">\n",
       "  <thead>\n",
       "    <tr style=\"text-align: right;\">\n",
       "      <th></th>\n",
       "      <th>filename</th>\n",
       "      <th>section_title</th>\n",
       "      <th>text</th>\n",
       "    </tr>\n",
       "  </thead>\n",
       "  <tbody>\n",
       "    <tr>\n",
       "      <th>0</th>\n",
       "      <td>1_Sekondi_Vol_I_p1_21.txt</td>\n",
       "      <td>1. James Parri s Succondee , 25 Apr. 1683</td>\n",
       "      <td>These are to give you an account of our affair...</td>\n",
       "    </tr>\n",
       "    <tr>\n",
       "      <th>1</th>\n",
       "      <td>1_Sekondi_Vol_I_p1_21.txt</td>\n",
       "      <td>2. Mark Bedford Whiting Succond~e Factory, 12 ...</td>\n",
       "      <td>This is only to give your Worship an accompt t...</td>\n",
       "    </tr>\n",
       "    <tr>\n",
       "      <th>2</th>\n",
       "      <td>1_Sekondi_Vol_I_p1_21.txt</td>\n",
       "      <td>3. Mark Bedford Whiting Succondee Factory, 20 ...</td>\n",
       "      <td>Since my last to your Worship here are come do...</td>\n",
       "    </tr>\n",
       "    <tr>\n",
       "      <th>3</th>\n",
       "      <td>1_Sekondi_Vol_I_p1_21.txt</td>\n",
       "      <td>4. Mark Bedford Whiting Succondee Factory, 26 ...</td>\n",
       "      <td>Your Worships of the 25th instant is come to h...</td>\n",
       "    </tr>\n",
       "    <tr>\n",
       "      <th>4</th>\n",
       "      <td>1_Sekondi_Vol_I_p1_21.txt</td>\n",
       "      <td>5. Mark Bedford Whiting Succondee Factory, 27 ...</td>\n",
       "      <td>Just now arrived a canoe from Axim whoe inform...</td>\n",
       "    </tr>\n",
       "  </tbody>\n",
       "</table>\n",
       "</div>"
      ],
      "text/plain": [
       "                    filename  \\\n",
       "0  1_Sekondi_Vol_I_p1_21.txt   \n",
       "1  1_Sekondi_Vol_I_p1_21.txt   \n",
       "2  1_Sekondi_Vol_I_p1_21.txt   \n",
       "3  1_Sekondi_Vol_I_p1_21.txt   \n",
       "4  1_Sekondi_Vol_I_p1_21.txt   \n",
       "\n",
       "                                       section_title  \\\n",
       "0         1. James Parri s Succondee , 25 Apr. 1683    \n",
       "1  2. Mark Bedford Whiting Succond~e Factory, 12 ...   \n",
       "2  3. Mark Bedford Whiting Succondee Factory, 20 ...   \n",
       "3  4. Mark Bedford Whiting Succondee Factory, 26 ...   \n",
       "4  5. Mark Bedford Whiting Succondee Factory, 27 ...   \n",
       "\n",
       "                                                text  \n",
       "0  These are to give you an account of our affair...  \n",
       "1  This is only to give your Worship an accompt t...  \n",
       "2  Since my last to your Worship here are come do...  \n",
       "3  Your Worships of the 25th instant is come to h...  \n",
       "4  Just now arrived a canoe from Axim whoe inform...  "
      ]
     },
     "execution_count": 99,
     "metadata": {},
     "output_type": "execute_result"
    }
   ],
   "source": [
    "df.head()"
   ]
  },
  {
   "cell_type": "code",
   "execution_count": 116,
   "metadata": {
    "collapsed": true
   },
   "outputs": [],
   "source": [
    "def parse_wrapper(str):\n",
    "    '''parse function from dateparser with exception handling'''\n",
    "    try:\n",
    "        return parse(str.split(',')[-1])\n",
    "    except Exception :\n",
    "        return None"
   ]
  },
  {
   "cell_type": "code",
   "execution_count": 117,
   "metadata": {
    "collapsed": true
   },
   "outputs": [],
   "source": [
    "# Attempt to extract date from section titles\n",
    "df['date'] = df['section_title'].apply(parse_wrapper)"
   ]
  },
  {
   "cell_type": "code",
   "execution_count": 118,
   "metadata": {},
   "outputs": [
    {
     "data": {
      "text/html": [
       "<div>\n",
       "<style>\n",
       "    .dataframe thead tr:only-child th {\n",
       "        text-align: right;\n",
       "    }\n",
       "\n",
       "    .dataframe thead th {\n",
       "        text-align: left;\n",
       "    }\n",
       "\n",
       "    .dataframe tbody tr th {\n",
       "        vertical-align: top;\n",
       "    }\n",
       "</style>\n",
       "<table border=\"1\" class=\"dataframe\">\n",
       "  <thead>\n",
       "    <tr style=\"text-align: right;\">\n",
       "      <th></th>\n",
       "      <th>filename</th>\n",
       "      <th>section_title</th>\n",
       "      <th>text</th>\n",
       "      <th>date</th>\n",
       "    </tr>\n",
       "  </thead>\n",
       "  <tbody>\n",
       "    <tr>\n",
       "      <th>0</th>\n",
       "      <td>1_Sekondi_Vol_I_p1_21.txt</td>\n",
       "      <td>1. James Parri s Succondee , 25 Apr. 1683</td>\n",
       "      <td>These are to give you an account of our affair...</td>\n",
       "      <td>1683-04-25 00:00:00</td>\n",
       "    </tr>\n",
       "    <tr>\n",
       "      <th>1</th>\n",
       "      <td>1_Sekondi_Vol_I_p1_21.txt</td>\n",
       "      <td>2. Mark Bedford Whiting Succond~e Factory, 12 ...</td>\n",
       "      <td>This is only to give your Worship an accompt t...</td>\n",
       "      <td>1683-06-12 00:00:00</td>\n",
       "    </tr>\n",
       "    <tr>\n",
       "      <th>2</th>\n",
       "      <td>1_Sekondi_Vol_I_p1_21.txt</td>\n",
       "      <td>3. Mark Bedford Whiting Succondee Factory, 20 ...</td>\n",
       "      <td>Since my last to your Worship here are come do...</td>\n",
       "      <td>1683-06-20 00:00:00</td>\n",
       "    </tr>\n",
       "    <tr>\n",
       "      <th>3</th>\n",
       "      <td>1_Sekondi_Vol_I_p1_21.txt</td>\n",
       "      <td>4. Mark Bedford Whiting Succondee Factory, 26 ...</td>\n",
       "      <td>Your Worships of the 25th instant is come to h...</td>\n",
       "      <td>1683-06-26 00:00:00</td>\n",
       "    </tr>\n",
       "    <tr>\n",
       "      <th>4</th>\n",
       "      <td>1_Sekondi_Vol_I_p1_21.txt</td>\n",
       "      <td>5. Mark Bedford Whiting Succondee Factory, 27 ...</td>\n",
       "      <td>Just now arrived a canoe from Axim whoe inform...</td>\n",
       "      <td>1683-06-27 00:00:00</td>\n",
       "    </tr>\n",
       "  </tbody>\n",
       "</table>\n",
       "</div>"
      ],
      "text/plain": [
       "                    filename  \\\n",
       "0  1_Sekondi_Vol_I_p1_21.txt   \n",
       "1  1_Sekondi_Vol_I_p1_21.txt   \n",
       "2  1_Sekondi_Vol_I_p1_21.txt   \n",
       "3  1_Sekondi_Vol_I_p1_21.txt   \n",
       "4  1_Sekondi_Vol_I_p1_21.txt   \n",
       "\n",
       "                                       section_title  \\\n",
       "0         1. James Parri s Succondee , 25 Apr. 1683    \n",
       "1  2. Mark Bedford Whiting Succond~e Factory, 12 ...   \n",
       "2  3. Mark Bedford Whiting Succondee Factory, 20 ...   \n",
       "3  4. Mark Bedford Whiting Succondee Factory, 26 ...   \n",
       "4  5. Mark Bedford Whiting Succondee Factory, 27 ...   \n",
       "\n",
       "                                                text                date  \n",
       "0  These are to give you an account of our affair... 1683-04-25 00:00:00  \n",
       "1  This is only to give your Worship an accompt t... 1683-06-12 00:00:00  \n",
       "2  Since my last to your Worship here are come do... 1683-06-20 00:00:00  \n",
       "3  Your Worships of the 25th instant is come to h... 1683-06-26 00:00:00  \n",
       "4  Just now arrived a canoe from Axim whoe inform... 1683-06-27 00:00:00  "
      ]
     },
     "execution_count": 118,
     "metadata": {},
     "output_type": "execute_result"
    }
   ],
   "source": [
    "df.head()"
   ]
  },
  {
   "cell_type": "code",
   "execution_count": 122,
   "metadata": {
    "collapsed": true
   },
   "outputs": [],
   "source": [
    "# Export segmented text to csv\n",
    "df.to_csv('csv/segmented.csv', index=False)"
   ]
  },
  {
   "cell_type": "code",
   "execution_count": null,
   "metadata": {
    "collapsed": true
   },
   "outputs": [],
   "source": []
  }
 ],
 "metadata": {
  "kernelspec": {
   "display_name": "Python 2",
   "language": "python",
   "name": "python2"
  },
  "language_info": {
   "codemirror_mode": {
    "name": "ipython",
    "version": 2
   },
   "file_extension": ".py",
   "mimetype": "text/x-python",
   "name": "python",
   "nbconvert_exporter": "python",
   "pygments_lexer": "ipython2",
   "version": "2.7.13"
  }
 },
 "nbformat": 4,
 "nbformat_minor": 2
}
