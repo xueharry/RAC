{
 "cells": [
  {
   "cell_type": "code",
   "execution_count": 25,
   "metadata": {
    "collapsed": true
   },
   "outputs": [],
   "source": [
    "import numpy as np\n",
    "import pandas as pd"
   ]
  },
  {
   "cell_type": "code",
   "execution_count": 2,
   "metadata": {
    "collapsed": true
   },
   "outputs": [],
   "source": [
    "# Load cleaned text and metadata datasets\n",
    "text_df = pd.read_csv('csv/segmented_cleaned.csv')\n",
    "meta_df = pd.read_excel('csv/032818_RAC_Networks_Database.xlsx')"
   ]
  },
  {
   "cell_type": "markdown",
   "metadata": {},
   "source": [
    "# Extract Volume and Letter Numbers"
   ]
  },
  {
   "cell_type": "code",
   "execution_count": 20,
   "metadata": {
    "collapsed": true
   },
   "outputs": [],
   "source": [
    "def extract_vol(filename):\n",
    "    '''Extract Vol for each text'''\n",
    "    for name in text_df['filename']:\n",
    "        if 'Volume_III' in name:\n",
    "            return 3\n",
    "        elif 'Vol_II'in name:\n",
    "            return 2\n",
    "        elif 'Vol_1' or 'Vol_I'in name:\n",
    "            return 1\n",
    "        elif 'Winneba_p150_152' in name:\n",
    "            return 1\n",
    "        elif 'Tantumkweri_Quansas_Croome' in name:\n",
    "            return 3\n",
    "        else:\n",
    "            # Sanity check for whether anything was missed\n",
    "            return None\n",
    "\n",
    "def extract_letter_number(section_title):\n",
    "    '''Extract letter number from section title'''\n",
    "    return section_title.split('.')[0]"
   ]
  },
  {
   "cell_type": "code",
   "execution_count": 17,
   "metadata": {
    "collapsed": true
   },
   "outputs": [],
   "source": [
    "assert(sum(text_df['filename'].apply(extract_vol).isnull() == 0))"
   ]
  },
  {
   "cell_type": "code",
   "execution_count": 25,
   "metadata": {
    "collapsed": true
   },
   "outputs": [],
   "source": [
    "# Add columns for Vol and LetterNo \n",
    "text_df['Vol'] = text_df['filename'].apply(extract_vol)\n",
    "text_df['LetterNo'] = text_df['section_title'].apply(extract_letter_number)"
   ]
  },
  {
   "cell_type": "code",
   "execution_count": 29,
   "metadata": {
    "collapsed": true
   },
   "outputs": [],
   "source": [
    "text_df.to_csv('csv/segmented_with_numbers.csv',index=False)"
   ]
  },
  {
   "cell_type": "markdown",
   "metadata": {},
   "source": [
    "# Join with Metadata dataframe on Volume and Letter Number"
   ]
  },
  {
   "cell_type": "code",
   "execution_count": 4,
   "metadata": {},
   "outputs": [],
   "source": [
    "# Read cleaned dataframes\n",
    "text_df = pd.read_csv('csv/segmented_with_numbers.csv')\n",
    "meta_df = pd.read_excel('csv/032818_RAC_Networks_Database.xlsx')"
   ]
  },
  {
   "cell_type": "code",
   "execution_count": 5,
   "metadata": {
    "collapsed": true
   },
   "outputs": [],
   "source": [
    "# Join dataframes on Letter Number and Volume\n",
    "merged_df = pd.merge(meta_df, text_df, on=['Vol', 'LetterNo'])"
   ]
  },
  {
   "cell_type": "code",
   "execution_count": 9,
   "metadata": {},
   "outputs": [
    {
     "data": {
      "text/plain": [
       "Index([             u'UID',              u'Vol',         u'LetterNo',\n",
       "                 u'Sender',  u'Place Sent From',        u'Ship Name',\n",
       "         u'Place Going To',             u'Date',        u'Boat/Fort',\n",
       "       u'RAC/Other Nation',    u'Rawlinson C. ',         u'Latitude',\n",
       "              u'Longitude',            u'Note1',            u'Note2',\n",
       "                  u'Note3',            u'Note4',            u'Note5',\n",
       "        u'Rawlinson C. .1',      u'Unnamed: 19',      u'Unnamed: 20',\n",
       "            u'Unnamed: 21',         u'filename',    u'section_title',\n",
       "                   u'text',             u'date'],\n",
       "      dtype='object')"
      ]
     },
     "execution_count": 9,
     "metadata": {},
     "output_type": "execute_result"
    }
   ],
   "source": [
    "merged_df.columns\n"
   ]
  },
  {
   "cell_type": "code",
   "execution_count": 17,
   "metadata": {},
   "outputs": [],
   "source": [
    "# Filter out for a subset of the columns\n",
    "merged_filtered = merged_df[[u'UID', u'Vol', u'LetterNo', u'Sender',  u'Place Sent From', u'Ship Name', u'Place Going To', u'Date',\n",
    "          u'Boat/Fort', u'RAC/Other Nation', u'Rawlinson C. ', u'Rawlinson C. .1', u'text']]"
   ]
  },
  {
   "cell_type": "code",
   "execution_count": 35,
   "metadata": {},
   "outputs": [
    {
     "name": "stderr",
     "output_type": "stream",
     "text": [
      "/Users/harryxue/anaconda2/lib/python2.7/site-packages/ipykernel_launcher.py:12: SettingWithCopyWarning: \n",
      "A value is trying to be set on a copy of a slice from a DataFrame.\n",
      "Try using .loc[row_indexer,col_indexer] = value instead\n",
      "\n",
      "See the caveats in the documentation: http://pandas.pydata.org/pandas-docs/stable/indexing.html#indexing-view-versus-copy\n",
      "  if sys.path[0] == '':\n"
     ]
    }
   ],
   "source": [
    "ascii_counter = 0\n",
    "total_counter = 0\n",
    "\n",
    "def remove_non_ascii(text):\n",
    "    '''Remove non-ASCII characters (mostly due to OCR parsing error)'''\n",
    "    if text is not np.nan:\n",
    "        return ''.join(i for i in text if ord(i)<128)\n",
    "    else:\n",
    "        return np.nan\n",
    "\n",
    "# Strip away non-ASCII characters from text column\n",
    "merged_filtered['text'] = merged_filtered['text'].apply(remove_non_ascii)"
   ]
  },
  {
   "cell_type": "code",
   "execution_count": 37,
   "metadata": {
    "collapsed": true
   },
   "outputs": [],
   "source": [
    "# Export joined dataframe to csv file\n",
    "merged_filtered.to_csv('csv/metadata_text_merged.csv', index=False)"
   ]
  }
 ],
 "metadata": {
  "kernelspec": {
   "display_name": "Python 2",
   "language": "python",
   "name": "python2"
  },
  "language_info": {
   "codemirror_mode": {
    "name": "ipython",
    "version": 2
   },
   "file_extension": ".py",
   "mimetype": "text/x-python",
   "name": "python",
   "nbconvert_exporter": "python",
   "pygments_lexer": "ipython2",
   "version": "2.7.13"
  }
 },
 "nbformat": 4,
 "nbformat_minor": 2
}
