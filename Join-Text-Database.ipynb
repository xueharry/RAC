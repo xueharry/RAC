{
 "cells": [
  {
   "cell_type": "code",
   "execution_count": 1,
   "metadata": {
    "collapsed": true
   },
   "outputs": [],
   "source": [
    "import pandas as pd"
   ]
  },
  {
   "cell_type": "code",
   "execution_count": 2,
   "metadata": {
    "collapsed": true
   },
   "outputs": [],
   "source": [
    "# Load cleaned text and metadata datasets\n",
    "text_df = pd.read_csv('csv/segmented_cleaned.csv')\n",
    "meta_df = pd.read_excel('csv/032818_RAC_Networks_Database.xlsx')"
   ]
  },
  {
   "cell_type": "markdown",
   "metadata": {},
   "source": [
    "# Extract Volume and Letter Numbers"
   ]
  },
  {
   "cell_type": "code",
   "execution_count": 20,
   "metadata": {},
   "outputs": [],
   "source": [
    "def extract_vol(filename):\n",
    "    '''Extract Vol for each text'''\n",
    "    for name in text_df['filename']:\n",
    "        if 'Volume_III' in name:\n",
    "            return 3\n",
    "        elif 'Vol_II'in name:\n",
    "            return 2\n",
    "        elif 'Vol_1' or 'Vol_I'in name:\n",
    "            return 1\n",
    "        elif 'Winneba_p150_152' in name:\n",
    "            return 1\n",
    "        elif 'Tantumkweri_Quansas_Croome' in name:\n",
    "            return 3\n",
    "        else:\n",
    "            # Sanity check for whether anything was missed\n",
    "            return None\n",
    "\n",
    "def extract_letter_number(section_title):\n",
    "    '''Extract letter number from section title'''\n",
    "    return section_title.split('.')[0]"
   ]
  },
  {
   "cell_type": "code",
   "execution_count": 17,
   "metadata": {},
   "outputs": [],
   "source": [
    "assert(sum(text_df['filename'].apply(extract_vol).isnull() == 0))"
   ]
  },
  {
   "cell_type": "code",
   "execution_count": 25,
   "metadata": {},
   "outputs": [],
   "source": [
    "# Add columns for Vol and LetterNo \n",
    "text_df['Vol'] = text_df['filename'].apply(extract_vol)\n",
    "text_df['LetterNo'] = text_df['section_title'].apply(extract_letter_number)"
   ]
  },
  {
   "cell_type": "code",
   "execution_count": 29,
   "metadata": {
    "collapsed": true
   },
   "outputs": [],
   "source": [
    "text_df.to_csv('csv/segmented_with_numbers.csv',index=False)"
   ]
  },
  {
   "cell_type": "markdown",
   "metadata": {},
   "source": [
    "# Join with Metadata dataframe"
   ]
  },
  {
   "cell_type": "code",
   "execution_count": 84,
   "metadata": {},
   "outputs": [],
   "source": [
    "merged_df = pd.merge(meta_df, text_df, on=['Vol', 'LetterNo'])"
   ]
  },
  {
   "cell_type": "code",
   "execution_count": 78,
   "metadata": {},
   "outputs": [],
   "source": [
    "merged_df.to_excel('csv/metadata_text_merged.xlsx', index=False)"
   ]
  },
  {
   "cell_type": "code",
   "execution_count": null,
   "metadata": {
    "collapsed": true
   },
   "outputs": [],
   "source": []
  }
 ],
 "metadata": {
  "kernelspec": {
   "display_name": "Python 2",
   "language": "python",
   "name": "python2"
  },
  "language_info": {
   "codemirror_mode": {
    "name": "ipython",
    "version": 2
   },
   "file_extension": ".py",
   "mimetype": "text/x-python",
   "name": "python",
   "nbconvert_exporter": "python",
   "pygments_lexer": "ipython2",
   "version": "2.7.13"
  }
 },
 "nbformat": 4,
 "nbformat_minor": 2
}
