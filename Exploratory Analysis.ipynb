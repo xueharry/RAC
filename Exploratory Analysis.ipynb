{
 "cells": [
  {
   "cell_type": "code",
   "execution_count": 1,
   "metadata": {
    "collapsed": true
   },
   "outputs": [],
   "source": [
    "from gensim.models import Word2Vec\n",
    "import numpy as np\n",
    "import pandas as pd\n",
    "import matplotlib.pyplot as plt\n",
    "%matplotlib inline"
   ]
  },
  {
   "cell_type": "code",
   "execution_count": 2,
   "metadata": {
    "collapsed": true
   },
   "outputs": [],
   "source": [
    "# Load joined dataframe\n",
    "df = pd.read_csv('csv/metadata_text_merged.csv')\n",
    "# Remove rows with empty text column for now\n",
    "df = df.dropna(subset=['text'])"
   ]
  },
  {
   "cell_type": "markdown",
   "metadata": {},
   "source": [
    "# Word2Vec embeddings\n",
    "See https://en.wikipedia.org/wiki/Word2vec for reference"
   ]
  },
  {
   "cell_type": "code",
   "execution_count": 30,
   "metadata": {},
   "outputs": [
    {
     "name": "stdout",
     "output_type": "stream",
     "text": [
      "Word2Vec(vocab=29780, size=100, alpha=0.025)\n"
     ]
    }
   ],
   "source": [
    "# Train word2vec model to produce word embeddings based on our corpus\n",
    "\n",
    "# define training data\n",
    "# for now, split on whitespace\n",
    "# TODO: Fancier preprocessing i.e. punctuation handling, stemming, lemmatization\n",
    "sentences = [letter.lower().split() for letter in df['text'].tolist()]# train model\n",
    "model = Word2Vec(sentences, min_count=1)\n",
    "# summarize the loaded model\n",
    "print(model)\n",
    "# save model\n",
    "# model.save('model.bin')\n",
    "# load model\n",
    "# new_model = Word2Vec.load('model.bin')"
   ]
  },
  {
   "cell_type": "code",
   "execution_count": 40,
   "metadata": {},
   "outputs": [
    {
     "data": {
      "text/plain": [
       "[('complement', 0.9938825368881226),\n",
       " ('carried', 0.9921998977661133),\n",
       " ('antea', 0.9920914173126221),\n",
       " ('guidah', 0.9918373823165894),\n",
       " ('commenda', 0.991675853729248),\n",
       " ('panyard', 0.9913508892059326),\n",
       " ('carrying', 0.9912232160568237),\n",
       " ('french', 0.9911662936210632),\n",
       " ('water', 0.9903877973556519),\n",
       " ('severall', 0.9901396036148071)]"
      ]
     },
     "execution_count": 40,
     "metadata": {},
     "output_type": "execute_result"
    }
   ],
   "source": [
    "# Get closest words in vector space to pyrate\n",
    "model.wv.most_similar('pyrate')"
   ]
  },
  {
   "cell_type": "markdown",
   "metadata": {},
   "source": [
    "# Toy Task: Analysis of the use of the word ''pyrate''\n"
   ]
  },
  {
   "cell_type": "code",
   "execution_count": 7,
   "metadata": {
    "collapsed": true
   },
   "outputs": [],
   "source": [
    "# Create indicator column for whether the word 'pyrate' is included in a given letter\n",
    "df['pyrate'] = df['text'].apply(lambda text: True if ('pyrate' in text or 'pyrat' in text) else False)"
   ]
  },
  {
   "cell_type": "code",
   "execution_count": 8,
   "metadata": {},
   "outputs": [
    {
     "data": {
      "text/plain": [
       "41"
      ]
     },
     "execution_count": 8,
     "metadata": {},
     "output_type": "execute_result"
    }
   ],
   "source": [
    "sum(df['pyrate'])"
   ]
  },
  {
   "cell_type": "code",
   "execution_count": 59,
   "metadata": {
    "collapsed": true
   },
   "outputs": [],
   "source": [
    "# Subset for letters containing mention of pyrate\n",
    "pyrate_subset = df[df['pyrate'] == True]"
   ]
  },
  {
   "cell_type": "code",
   "execution_count": 77,
   "metadata": {},
   "outputs": [
    {
     "data": {
      "text/html": [
       "<div>\n",
       "<style>\n",
       "    .dataframe thead tr:only-child th {\n",
       "        text-align: right;\n",
       "    }\n",
       "\n",
       "    .dataframe thead th {\n",
       "        text-align: left;\n",
       "    }\n",
       "\n",
       "    .dataframe tbody tr th {\n",
       "        vertical-align: top;\n",
       "    }\n",
       "</style>\n",
       "<table border=\"1\" class=\"dataframe\">\n",
       "  <thead>\n",
       "    <tr style=\"text-align: right;\">\n",
       "      <th></th>\n",
       "      <th>UID</th>\n",
       "      <th>Vol</th>\n",
       "      <th>LetterNo</th>\n",
       "      <th>Sender</th>\n",
       "      <th>Place Sent From</th>\n",
       "      <th>Ship Name</th>\n",
       "      <th>Place Going To</th>\n",
       "      <th>Date</th>\n",
       "      <th>Boat/Fort</th>\n",
       "      <th>RAC/Other Nation</th>\n",
       "      <th>Rawlinson C.</th>\n",
       "      <th>Rawlinson C. .1</th>\n",
       "      <th>text</th>\n",
       "      <th>pyrate</th>\n",
       "    </tr>\n",
       "  </thead>\n",
       "  <tbody>\n",
       "    <tr>\n",
       "      <th>14</th>\n",
       "      <td>5</td>\n",
       "      <td>1</td>\n",
       "      <td>5</td>\n",
       "      <td>Mark Bedford Whiting</td>\n",
       "      <td>Sekondi</td>\n",
       "      <td>NaN</td>\n",
       "      <td>Cape Coast Castle</td>\n",
       "      <td>27/06/1683</td>\n",
       "      <td>Fort</td>\n",
       "      <td>RAC</td>\n",
       "      <td>745: 215v, 264</td>\n",
       "      <td>745: 215v, 264</td>\n",
       "      <td>Just now arrived a canoe from Axim whoe inform...</td>\n",
       "      <td>True</td>\n",
       "    </tr>\n",
       "    <tr>\n",
       "      <th>17</th>\n",
       "      <td>6</td>\n",
       "      <td>1</td>\n",
       "      <td>6</td>\n",
       "      <td>Mark Bedford Whiting</td>\n",
       "      <td>Sekondi</td>\n",
       "      <td>NaN</td>\n",
       "      <td>Cape Coast Castle</td>\n",
       "      <td>30/06/1683</td>\n",
       "      <td>Fort</td>\n",
       "      <td>RAC</td>\n",
       "      <td>745: 217, 266</td>\n",
       "      <td>745: 217, 266</td>\n",
       "      <td>Your Worships of the 28th instant I have per t...</td>\n",
       "      <td>True</td>\n",
       "    </tr>\n",
       "    <tr>\n",
       "      <th>19</th>\n",
       "      <td>6</td>\n",
       "      <td>1</td>\n",
       "      <td>6</td>\n",
       "      <td>Mark Bedford Whiting</td>\n",
       "      <td>Sekondi</td>\n",
       "      <td>NaN</td>\n",
       "      <td>Cape Coast Castle</td>\n",
       "      <td>30/06/1683</td>\n",
       "      <td>Fort</td>\n",
       "      <td>RAC</td>\n",
       "      <td>745: 217, 266</td>\n",
       "      <td>745: 217, 266</td>\n",
       "      <td>I have by this canoe sent downe Robert Stone, ...</td>\n",
       "      <td>True</td>\n",
       "    </tr>\n",
       "    <tr>\n",
       "      <th>21</th>\n",
       "      <td>7</td>\n",
       "      <td>1</td>\n",
       "      <td>7</td>\n",
       "      <td>Mark Bedford Whiting</td>\n",
       "      <td>Sekondi</td>\n",
       "      <td>NaN</td>\n",
       "      <td>Cape Coast Castle</td>\n",
       "      <td>02/07/1683</td>\n",
       "      <td>Fort</td>\n",
       "      <td>RAC</td>\n",
       "      <td>745: 218, 266v</td>\n",
       "      <td>745: 218, 266v</td>\n",
       "      <td>This is to acquaint your Worship that just now...</td>\n",
       "      <td>True</td>\n",
       "    </tr>\n",
       "    <tr>\n",
       "      <th>23</th>\n",
       "      <td>7</td>\n",
       "      <td>1</td>\n",
       "      <td>7</td>\n",
       "      <td>Mark Bedford Whiting</td>\n",
       "      <td>Sekondi</td>\n",
       "      <td>NaN</td>\n",
       "      <td>Cape Coast Castle</td>\n",
       "      <td>02/07/1683</td>\n",
       "      <td>Fort</td>\n",
       "      <td>RAC</td>\n",
       "      <td>745: 218, 266v</td>\n",
       "      <td>745: 218, 266v</td>\n",
       "      <td>This accompanys Joseph Collenwood , who came i...</td>\n",
       "      <td>True</td>\n",
       "    </tr>\n",
       "  </tbody>\n",
       "</table>\n",
       "</div>"
      ],
      "text/plain": [
       "    UID  Vol  LetterNo                Sender Place Sent From Ship Name  \\\n",
       "14    5    1         5  Mark Bedford Whiting         Sekondi       NaN   \n",
       "17    6    1         6  Mark Bedford Whiting         Sekondi       NaN   \n",
       "19    6    1         6  Mark Bedford Whiting         Sekondi       NaN   \n",
       "21    7    1         7  Mark Bedford Whiting         Sekondi       NaN   \n",
       "23    7    1         7  Mark Bedford Whiting         Sekondi       NaN   \n",
       "\n",
       "       Place Going To        Date Boat/Fort RAC/Other Nation   Rawlinson C.   \\\n",
       "14  Cape Coast Castle  27/06/1683      Fort              RAC  745: 215v, 264   \n",
       "17  Cape Coast Castle  30/06/1683      Fort              RAC   745: 217, 266   \n",
       "19  Cape Coast Castle  30/06/1683      Fort              RAC   745: 217, 266   \n",
       "21  Cape Coast Castle  02/07/1683      Fort              RAC  745: 218, 266v   \n",
       "23  Cape Coast Castle  02/07/1683      Fort              RAC  745: 218, 266v   \n",
       "\n",
       "   Rawlinson C. .1                                               text  pyrate  \n",
       "14  745: 215v, 264  Just now arrived a canoe from Axim whoe inform...    True  \n",
       "17   745: 217, 266  Your Worships of the 28th instant I have per t...    True  \n",
       "19   745: 217, 266  I have by this canoe sent downe Robert Stone, ...    True  \n",
       "21  745: 218, 266v  This is to acquaint your Worship that just now...    True  \n",
       "23  745: 218, 266v  This accompanys Joseph Collenwood , who came i...    True  "
      ]
     },
     "execution_count": 77,
     "metadata": {},
     "output_type": "execute_result"
    }
   ],
   "source": [
    "pyrate_subset.head()"
   ]
  },
  {
   "cell_type": "code",
   "execution_count": 76,
   "metadata": {},
   "outputs": [
    {
     "data": {
      "text/plain": [
       "<matplotlib.axes._subplots.AxesSubplot at 0x1a179e3950>"
      ]
     },
     "execution_count": 76,
     "metadata": {},
     "output_type": "execute_result"
    },
    {
     "data": {
      "image/png": "[encoded data removed]",
      "text/plain": [
       "<matplotlib.figure.Figure at 0x1a17b56390>"
      ]
     },
     "metadata": {},
     "output_type": "display_data"
    }
   ],
   "source": [
    "pyrate_subset['Place Sent From'].value_counts().plot(kind='barh')"
   ]
  },
  {
   "cell_type": "code",
   "execution_count": 75,
   "metadata": {},
   "outputs": [
    {
     "data": {
      "text/plain": [
       "<matplotlib.axes._subplots.AxesSubplot at 0x1a179c7750>"
      ]
     },
     "execution_count": 75,
     "metadata": {},
     "output_type": "execute_result"
    },
    {
     "data": {
      "image/png": "[encoded data removed]",
      "text/plain": [
       "<matplotlib.figure.Figure at 0x1a1799f290>"
      ]
     },
     "metadata": {},
     "output_type": "display_data"
    }
   ],
   "source": [
    "pyrate_subset['Sender'].value_counts().plot(kind='barh')"
   ]
  },
  {
   "cell_type": "code",
   "execution_count": 80,
   "metadata": {},
   "outputs": [
    {
     "data": {
      "text/plain": [
       "<matplotlib.axes._subplots.AxesSubplot at 0x1a1f0a4b50>"
      ]
     },
     "execution_count": 80,
     "metadata": {},
     "output_type": "execute_result"
    },
    {
     "data": {
      "image/png": "[encoded data removed]",
      "text/plain": [
       "<matplotlib.figure.Figure at 0x1a1f0ba750>"
      ]
     },
     "metadata": {},
     "output_type": "display_data"
    }
   ],
   "source": [
    "pyrate_subset['Boat/Fort'].value_counts().plot(kind='barh')"
   ]
  }
 ],
 "metadata": {
  "kernelspec": {
   "display_name": "Python 2",
   "language": "python",
   "name": "python2"
  },
  "language_info": {
   "codemirror_mode": {
    "name": "ipython",
    "version": 2
   },
   "file_extension": ".py",
   "mimetype": "text/x-python",
   "name": "python",
   "nbconvert_exporter": "python",
   "pygments_lexer": "ipython2",
   "version": "2.7.13"
  }
 },
 "nbformat": 4,
 "nbformat_minor": 2
}
