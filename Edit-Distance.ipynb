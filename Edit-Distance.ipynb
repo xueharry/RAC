{
 "cells": [
  {
   "cell_type": "code",
   "execution_count": 27,
   "metadata": {
    "collapsed": true
   },
   "outputs": [],
   "source": [
    "from editdistance import eval\n",
    "import numpy as np\n",
    "import pandas as pd\n",
    "from tqdm import tqdm_notebook"
   ]
  },
  {
   "cell_type": "code",
   "execution_count": 21,
   "metadata": {},
   "outputs": [],
   "source": [
    "# Load good names\n",
    "good_names_df = pd.read_csv('csv/good_names_1.csv').dropna()\n",
    "good_names = good_names_df['good'].tolist()\n",
    "\n",
    "# Load texts\n",
    "text_df = pd.read_csv('csv/metadata_text_merged.csv')\n",
    "\n",
    "# lowercasing\n",
    "text_df['text_cleaned'] = text_df['text'].apply((lambda x: \" \".join(x.lower() for x in x.split())))\n",
    "# remove puctuation\n",
    "text_df['text_cleaned'] = text_df['text_cleaned'].str.replace('[^\\w\\s]','')"
   ]
  },
  {
   "cell_type": "markdown",
   "metadata": {},
   "source": [
    "# Check for words that are an edit distance of 2 away in the text"
   ]
  },
  {
   "cell_type": "code",
   "execution_count": 42,
   "metadata": {},
   "outputs": [
    {
     "data": {
      "application/vnd.jupyter.widget-view+json": {
       "model_id": "a6b4a82b4911401c9e08bb6d67b1f74c",
       "version_major": 2,
       "version_minor": 0
      },
      "text/plain": [
       "A Jupyter Widget"
      ]
     },
     "metadata": {},
     "output_type": "display_data"
    },
    {
     "name": "stdout",
     "output_type": "stream",
     "text": [
      "\n"
     ]
    }
   ],
   "source": [
    "# Initialize dictionary of aliases, where key is good name and value is list of aliases\n",
    "alias_dict = {}\n",
    "\n",
    "for good_name in good_names:\n",
    "    alias_dict[good_name] = []\n",
    "\n",
    "for text in tqdm_notebook(text_df['text_cleaned'].tolist()):\n",
    "    text_list = text.split()\n",
    "    \n",
    "    # Compute edit distance with every good\n",
    "    for good_name in good_names:\n",
    "        for word in text_list:\n",
    "            edit_dist = int(eval(good_name, word))\n",
    "            if edit_dist <= 2 and word != good_name and word not in alias_dict[good_name]:\n",
    "                # Add to list of possible aliases for the good\n",
    "                alias_dict[good_name].append(word)"
   ]
  },
  {
   "cell_type": "markdown",
   "metadata": {},
   "source": [
    "# Create dataframe of candidates of edit distance 2 away"
   ]
  },
  {
   "cell_type": "code",
   "execution_count": 50,
   "metadata": {},
   "outputs": [],
   "source": [
    "edit_dist_df = pd.DataFrame(columns=['good', 'possible_alias'])\n",
    "\n",
    "for good_name, possible_aliases in alias_dict.items():\n",
    "    for possible_alias in possible_aliases:\n",
    "        edit_dist_df = edit_dist_df.append({'good': good_name, \n",
    "                                            'possible_alias': possible_alias}, ignore_index=True)"
   ]
  },
  {
   "cell_type": "code",
   "execution_count": 52,
   "metadata": {},
   "outputs": [],
   "source": [
    "edit_dist_df.to_csv('csv/good_names_edit_distance2.csv', index=False)"
   ]
  }
 ],
 "metadata": {
  "kernelspec": {
   "display_name": "Python 2",
   "language": "python",
   "name": "python2"
  },
  "language_info": {
   "codemirror_mode": {
    "name": "ipython",
    "version": 2
   },
   "file_extension": ".py",
   "mimetype": "text/x-python",
   "name": "python",
   "nbconvert_exporter": "python",
   "pygments_lexer": "ipython2",
   "version": "2.7.13"
  }
 },
 "nbformat": 4,
 "nbformat_minor": 2
}
