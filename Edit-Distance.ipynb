{
 "cells": [
  {
   "cell_type": "code",
   "execution_count": 1,
   "metadata": {
    "collapsed": true
   },
   "outputs": [],
   "source": [
    "from editdistance import eval\n",
    "import numpy as np\n",
    "import pandas as pd\n",
    "from tqdm import tqdm_notebook"
   ]
  },
  {
   "cell_type": "code",
   "execution_count": 2,
   "metadata": {},
   "outputs": [],
   "source": [
    "# Load good names\n",
    "good_names_df = pd.read_csv('csv/good_names_1.csv').dropna()\n",
    "good_names = good_names_df['good'].tolist()\n",
    "\n",
    "# Load texts\n",
    "text_df = pd.read_csv('csv/metadata_text_merged.csv')\n",
    "\n",
    "# lowercasing\n",
    "text_df['text_cleaned'] = text_df['text'].apply((lambda x: \" \".join(x.lower() for x in x.split())))\n",
    "# remove puctuation\n",
    "text_df['text_cleaned'] = text_df['text_cleaned'].str.replace('[^\\w\\s]','')"
   ]
  },
  {
   "cell_type": "markdown",
   "metadata": {},
   "source": [
    "# Check for words that are an edit distance of 2 away in the text"
   ]
  },
  {
   "cell_type": "code",
   "execution_count": 25,
   "metadata": {},
   "outputs": [],
   "source": [
    "# Initialize dictionary of aliases, where key is good name and value is list of aliases\n",
    "alias_dict = {}\n",
    "\n",
    "for good_name in good_names:\n",
    "    alias_dict[good_name] = []\n",
    "\n",
    "for i, row in text_df.iterrows():\n",
    "    text_list = row['text_cleaned'].split()\n",
    "    uid = row['UID']\n",
    "    \n",
    "    # Compute edit distance with every good\n",
    "    for good_name in good_names:\n",
    "        for word in text_list:\n",
    "            edit_dist = int(eval(good_name, word))\n",
    "            if edit_dist <= 2 and word != good_name and word not in [tup[0] for tup in alias_dict[good_name]]:\n",
    "                # Add to list of possible aliases for the good\n",
    "                alias_dict[good_name].append((word, uid))"
   ]
  },
  {
   "cell_type": "markdown",
   "metadata": {},
   "source": [
    "# Create dataframe of candidates of edit distance 2 away"
   ]
  },
  {
   "cell_type": "code",
   "execution_count": 26,
   "metadata": {},
   "outputs": [
    {
     "data": {
      "application/vnd.jupyter.widget-view+json": {
       "model_id": "a248507385e34ba5a10cea07e677de72",
       "version_major": 2,
       "version_minor": 0
      },
      "text/plain": [
       "A Jupyter Widget"
      ]
     },
     "metadata": {},
     "output_type": "display_data"
    },
    {
     "name": "stdout",
     "output_type": "stream",
     "text": [
      "\n"
     ]
    }
   ],
   "source": [
    "edit_dist_df = pd.DataFrame(columns=['good', 'possible_alias', 'UID'])\n",
    "\n",
    "for good_name, possible_aliases in tqdm_notebook(alias_dict.items()):\n",
    "    for possible_alias in possible_aliases:\n",
    "        edit_dist_df = edit_dist_df.append({'good': good_name, \n",
    "                                            'possible_alias': possible_alias[0],\n",
    "                                            'UID': possible_alias[1]},\n",
    "                                               ignore_index=True\n",
    "                                            )"
   ]
  },
  {
   "cell_type": "code",
   "execution_count": 28,
   "metadata": {},
   "outputs": [],
   "source": [
    "edit_dist_df.sort_values(by=['good', 'possible_alias']).to_csv('csv/good_names_edit_distance2.csv', index=False)"
   ]
  }
 ],
 "metadata": {
  "kernelspec": {
   "display_name": "Python 2",
   "language": "python",
   "name": "python2"
  },
  "language_info": {
   "codemirror_mode": {
    "name": "ipython",
    "version": 2
   },
   "file_extension": ".py",
   "mimetype": "text/x-python",
   "name": "python",
   "nbconvert_exporter": "python",
   "pygments_lexer": "ipython2",
   "version": "2.7.13"
  }
 },
 "nbformat": 4,
 "nbformat_minor": 2
}
