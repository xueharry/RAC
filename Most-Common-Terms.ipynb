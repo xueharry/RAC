{
 "cells": [
  {
   "cell_type": "code",
   "execution_count": 1,
   "metadata": {
    "collapsed": true
   },
   "outputs": [],
   "source": [
    "import numpy as np\n",
    "import pandas as pd\n",
    "from nltk.corpus import stopwords\n",
    "from gensim.models import Word2Vec\n",
    "from sklearn.decomposition import PCA\n",
    "import matplotlib.pyplot as plt\n",
    "%matplotlib inline"
   ]
  },
  {
   "cell_type": "code",
   "execution_count": 2,
   "metadata": {
    "collapsed": true
   },
   "outputs": [],
   "source": [
    "# Load joined dataframe\n",
    "df = pd.read_csv('csv/metadata_text_merged.csv')\n",
    "# Remove rows with empty text column for now\n",
    "df = df.dropna(subset=['text'])"
   ]
  },
  {
   "cell_type": "code",
   "execution_count": 3,
   "metadata": {
    "collapsed": true
   },
   "outputs": [],
   "source": [
    "# lowercasing\n",
    "df['text_cleaned'] = df['text'].apply((lambda x: \" \".join(x.lower() for x in x.split())))\n",
    "# remove punctuation\n",
    "df['text_cleaned'] = df['text_cleaned'].str.replace('[^\\w\\s]','')\n",
    "# stopword removal\n",
    "stop = stopwords.words('english')\n",
    "df['text_cleaned'] = df['text_cleaned'].apply(lambda x: \" \".join(x for x in x.split() if x not in stop))"
   ]
  },
  {
   "cell_type": "code",
   "execution_count": 4,
   "metadata": {
    "collapsed": true
   },
   "outputs": [],
   "source": [
    "# Get list of words that appear most frequently\n",
    "freq = pd.Series(' '.join(df['text_cleaned']).split()).value_counts()"
   ]
  },
  {
   "cell_type": "code",
   "execution_count": 5,
   "metadata": {},
   "outputs": [
    {
     "data": {
      "text/plain": [
       "send           2734\n",
       "sent           2608\n",
       "shall          2596\n",
       "mr             2413\n",
       "one            2397\n",
       "would          1935\n",
       "received       1877\n",
       "two            1845\n",
       "goods          1751\n",
       "slaves         1711\n",
       "per            1685\n",
       "captain        1663\n",
       "desire         1651\n",
       "canoe          1624\n",
       "may            1584\n",
       "soe            1344\n",
       "last           1249\n",
       "come           1229\n",
       "great          1222\n",
       "wee            1220\n",
       "worship        1216\n",
       "company        1149\n",
       "much           1123\n",
       "order          1120\n",
       "men            1112\n",
       "doe            1111\n",
       "good           1088\n",
       "att            1046\n",
       "give           1026\n",
       "came           1010\n",
       "               ... \n",
       "_ds               1\n",
       "pleads            1\n",
       "westrane          1\n",
       "uniquidee         1\n",
       "nicholls          1\n",
       "concent           1\n",
       "no74950           1\n",
       "2cwt              1\n",
       "ernthus           1\n",
       "renue             1\n",
       "exclusion         1\n",
       "jamque            1\n",
       "halfepenny        1\n",
       "profred           1\n",
       "scaynes           1\n",
       "forebore          1\n",
       "lien              1\n",
       "amounted          1\n",
       "hotly             1\n",
       "unequally         1\n",
       "meaninge          1\n",
       "boors             1\n",
       "tyred             1\n",
       "faust             1\n",
       "magazine          1\n",
       "drames            1\n",
       "missive           1\n",
       "ashreves          1\n",
       "pretendedly       1\n",
       "penell            1\n",
       "Length: 17557, dtype: int64"
      ]
     },
     "execution_count": 5,
     "metadata": {},
     "output_type": "execute_result"
    }
   ],
   "source": [
    "freq"
   ]
  },
  {
   "cell_type": "code",
   "execution_count": null,
   "metadata": {
    "collapsed": true
   },
   "outputs": [],
   "source": []
  }
 ],
 "metadata": {
  "kernelspec": {
   "display_name": "Python 2",
   "language": "python",
   "name": "python2"
  },
  "language_info": {
   "codemirror_mode": {
    "name": "ipython",
    "version": 2
   },
   "file_extension": ".py",
   "mimetype": "text/x-python",
   "name": "python",
   "nbconvert_exporter": "python",
   "pygments_lexer": "ipython2",
   "version": "2.7.13"
  }
 },
 "nbformat": 4,
 "nbformat_minor": 2
}
