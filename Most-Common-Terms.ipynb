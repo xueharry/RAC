{
 "cells": [
  {
   "cell_type": "code",
   "execution_count": 1,
   "metadata": {
    "collapsed": true
   },
   "outputs": [],
   "source": [
    "import numpy as np\n",
    "import pandas as pd\n",
    "import os\n",
    "import re\n",
    "from nltk.corpus import stopwords\n",
    "from gensim.models import Word2Vec\n",
    "from sklearn.decomposition import PCA\n",
    "import matplotlib.pyplot as plt\n",
    "%matplotlib inline"
   ]
  },
  {
   "cell_type": "code",
   "execution_count": 2,
   "metadata": {
    "collapsed": true
   },
   "outputs": [],
   "source": [
    "pd.set_option('display.max_rows', 101)"
   ]
  },
  {
   "cell_type": "code",
   "execution_count": 3,
   "metadata": {
    "collapsed": true
   },
   "outputs": [],
   "source": [
    "# Load joined dataframe\n",
    "df = pd.read_csv('csv/metadata_text_merged_cleaned.csv')"
   ]
  },
  {
   "cell_type": "markdown",
   "metadata": {},
   "source": [
    "# Frequency analysis"
   ]
  },
  {
   "cell_type": "code",
   "execution_count": 4,
   "metadata": {
    "collapsed": true
   },
   "outputs": [],
   "source": [
    "# Get list of words that appear most frequently\n",
    "freq = pd.Series(' '.join(df['text_cleaned']).split()).value_counts()\n",
    "dealiased_freq = pd.Series(' '.join(df['text_cleaned_dealiased']).split()).value_counts()"
   ]
  },
  {
   "cell_type": "code",
   "execution_count": 5,
   "metadata": {},
   "outputs": [
    {
     "name": "stdout",
     "output_type": "stream",
     "text": [
      "Before: 17001 After: 15625\n"
     ]
    }
   ],
   "source": [
    "print 'Before:', len(freq), 'After:', len(dealiased_freq)"
   ]
  },
  {
   "cell_type": "code",
   "execution_count": 6,
   "metadata": {
    "scrolled": false
   },
   "outputs": [
    {
     "data": {
      "text/plain": [
       "send            2713\n",
       "shall           2590\n",
       "sent            2585\n",
       "mr              2398\n",
       "one             2353\n",
       "would           1927\n",
       "received        1863\n",
       "two             1833\n",
       "goods           1711\n",
       "slaves          1674\n",
       "per             1660\n",
       "desire          1651\n",
       "canoe           1618\n",
       "captain         1615\n",
       "may             1560\n",
       "soe             1342\n",
       "last            1243\n",
       "come            1222\n",
       "wee             1215\n",
       "great           1214\n",
       "worship         1208\n",
       "company         1140\n",
       "order           1119\n",
       "much            1112\n",
       "doe             1107\n",
       "men             1106\n",
       "good            1078\n",
       "att             1044\n",
       "give            1018\n",
       "people          1003\n",
       "came            1000\n",
       "time             997\n",
       "corne            940\n",
       "pleased          921\n",
       "royall           912\n",
       "accompt          909\n",
       "itt              908\n",
       "hope             899\n",
       "noe              886\n",
       "downe            882\n",
       "dutch            876\n",
       "hand             876\n",
       "instant          871\n",
       "hee              857\n",
       "also             854\n",
       "hath             851\n",
       "mee              838\n",
       "since            797\n",
       "us               792\n",
       "want             787\n",
       "place            780\n",
       "upon             779\n",
       "take             758\n",
       "could            758\n",
       "account          734\n",
       "haveing          729\n",
       "make             717\n",
       "trade            715\n",
       "day              708\n",
       "2                699\n",
       "know             699\n",
       "man              697\n",
       "please           687\n",
       "goe              685\n",
       "three            677\n",
       "gold             663\n",
       "pray             655\n",
       "according        644\n",
       "honour           624\n",
       "cabo             608\n",
       "chests           608\n",
       "3                607\n",
       "gett             606\n",
       "well             598\n",
       "powder           596\n",
       "sheets           593\n",
       "made             589\n",
       "first            578\n",
       "night            574\n",
       "little           566\n",
       "comes            559\n",
       "worships         556\n",
       "john             550\n",
       "iron             547\n",
       "orders           543\n",
       "factory          542\n",
       "hundred          535\n",
       "fort             522\n",
       "morning          519\n",
       "present          514\n",
       "must             512\n",
       "reason           510\n",
       "cannot           509\n",
       "small            507\n",
       "accompts         505\n",
       "letter           504\n",
       "board            486\n",
       "perpetuanoes     486\n",
       "likewise         482\n",
       "yesterday        478\n",
       "dtype: int64"
      ]
     },
     "execution_count": 6,
     "metadata": {},
     "output_type": "execute_result"
    }
   ],
   "source": [
    "freq[:100]"
   ]
  },
  {
   "cell_type": "code",
   "execution_count": 7,
   "metadata": {},
   "outputs": [
    {
     "data": {
      "text/plain": [
       "send           2713\n",
       "sent           2592\n",
       "shall          2590\n",
       "mr             2398\n",
       "one            2353\n",
       "would          1927\n",
       "received       1866\n",
       "two            1833\n",
       "canoe          1752\n",
       "goods          1711\n",
       "slaves         1674\n",
       "per            1660\n",
       "account        1652\n",
       "desire         1651\n",
       "captain        1621\n",
       "may            1560\n",
       "great          1366\n",
       "so             1342\n",
       "worship        1294\n",
       "corn           1243\n",
       "last           1243\n",
       "come           1222\n",
       "we             1215\n",
       "also           1177\n",
       "company        1155\n",
       "order          1119\n",
       "much           1112\n",
       "do             1107\n",
       "men            1106\n",
       "good           1078\n",
       "time           1070\n",
       "at             1044\n",
       "give           1018\n",
       "people         1003\n",
       "came           1000\n",
       "royal           951\n",
       "worships        948\n",
       "pleased         921\n",
       "it              908\n",
       "dutch           904\n",
       "hope            899\n",
       "coast           891\n",
       "no              886\n",
       "down            882\n",
       "cape            881\n",
       "hand            876\n",
       "instant         871\n",
       "he              857\n",
       "hath            851\n",
       "castle          850\n",
       "me              838\n",
       "since           797\n",
       "us              792\n",
       "go              790\n",
       "want            789\n",
       "place           780\n",
       "upon            779\n",
       "could           758\n",
       "take            758\n",
       "having          729\n",
       "make            717\n",
       "three           716\n",
       "trade           715\n",
       "day             708\n",
       "perpetuanos     700\n",
       "know            699\n",
       "2               699\n",
       "man             697\n",
       "please          687\n",
       "fort            679\n",
       "ship            673\n",
       "get             668\n",
       "gold            663\n",
       "money           656\n",
       "pray            655\n",
       "days            650\n",
       "accounts        647\n",
       "according       644\n",
       "shets           639\n",
       "companys        635\n",
       "honour          624\n",
       "chests          608\n",
       "3               607\n",
       "factory         604\n",
       "well            601\n",
       "powder          596\n",
       "made            589\n",
       "first           588\n",
       "says            581\n",
       "night           574\n",
       "put             570\n",
       "little          567\n",
       "comes           559\n",
       "let             555\n",
       "john            550\n",
       "iron            548\n",
       "cannot          544\n",
       "orders          543\n",
       "hundred         535\n",
       "yet             532\n",
       "dtype: int64"
      ]
     },
     "execution_count": 7,
     "metadata": {},
     "output_type": "execute_result"
    }
   ],
   "source": [
    "dealiased_freq[:100]"
   ]
  },
  {
   "cell_type": "code",
   "execution_count": null,
   "metadata": {
    "collapsed": true
   },
   "outputs": [],
   "source": []
  }
 ],
 "metadata": {
  "kernelspec": {
   "display_name": "Python 2",
   "language": "python",
   "name": "python2"
  },
  "language_info": {
   "codemirror_mode": {
    "name": "ipython",
    "version": 2
   },
   "file_extension": ".py",
   "mimetype": "text/x-python",
   "name": "python",
   "nbconvert_exporter": "python",
   "pygments_lexer": "ipython2",
   "version": "2.7.13"
  }
 },
 "nbformat": 4,
 "nbformat_minor": 2
}
