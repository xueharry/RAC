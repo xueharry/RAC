{
 "cells": [
  {
   "cell_type": "code",
   "execution_count": 4,
   "metadata": {
    "collapsed": true
   },
   "outputs": [],
   "source": [
    "import numpy as np\n",
    "import pandas as pd\n",
    "import re"
   ]
  },
  {
   "cell_type": "code",
   "execution_count": 2,
   "metadata": {
    "collapsed": true
   },
   "outputs": [],
   "source": [
    "df = pd.read_csv('csv/metadata_text_merged_cleaned.csv')"
   ]
  },
  {
   "cell_type": "code",
   "execution_count": 27,
   "metadata": {},
   "outputs": [
    {
     "name": "stdout",
     "output_type": "stream",
     "text": [
      "dutch: 90\n",
      "french: 5\n",
      "flemish: 3\n",
      "portuguese: 3\n",
      "danish: 0\n",
      "brandenberg: 0\n",
      "english: 35\n"
     ]
    }
   ],
   "source": [
    "nationalities = ['dutch', 'french', 'flemish', 'portuguese', 'danish', 'brandenberg', 'english']\n",
    "\n",
    "counter = 0\n",
    "\n",
    "for nationality in nationalities:\n",
    "    for text in df['text_cleaned_dealiased']:\n",
    "        if re.search(nationality + '.{0,15}interloper', text) is not None:\n",
    "            counter += 1\n",
    "    \n",
    "    print '{}:'.format(nationality), counter\n",
    "    counter = 0"
   ]
  },
  {
   "cell_type": "code",
   "execution_count": null,
   "metadata": {
    "collapsed": true
   },
   "outputs": [],
   "source": []
  }
 ],
 "metadata": {
  "kernelspec": {
   "display_name": "Python 2",
   "language": "python",
   "name": "python2"
  },
  "language_info": {
   "codemirror_mode": {
    "name": "ipython",
    "version": 2
   },
   "file_extension": ".py",
   "mimetype": "text/x-python",
   "name": "python",
   "nbconvert_exporter": "python",
   "pygments_lexer": "ipython2",
   "version": "2.7.13"
  }
 },
 "nbformat": 4,
 "nbformat_minor": 2
}
