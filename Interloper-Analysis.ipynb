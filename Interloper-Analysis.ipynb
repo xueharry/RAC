{
 "cells": [
  {
   "cell_type": "code",
   "execution_count": 9,
   "metadata": {
    "collapsed": true
   },
   "outputs": [],
   "source": [
    "import numpy as np\n",
    "import pandas as pd\n",
    "import re"
   ]
  },
  {
   "cell_type": "code",
   "execution_count": 10,
   "metadata": {
    "collapsed": true
   },
   "outputs": [],
   "source": [
    "df = pd.read_csv('csv/metadata_text_merged_cleaned.csv')"
   ]
  },
  {
   "cell_type": "code",
   "execution_count": 34,
   "metadata": {},
   "outputs": [
    {
     "name": "stdout",
     "output_type": "stream",
     "text": [
      "portuguese 3\n",
      "flemish 3\n",
      "english 35\n",
      "no_nationality 98\n",
      "french 5\n",
      "dutch 90\n",
      "brandenberg 0\n",
      "danish 0\n"
     ]
    }
   ],
   "source": [
    "nationalities = ['dutch', 'french', 'flemish', 'portuguese', 'danish', 'brandenberg', 'english']\n",
    "\n",
    "# Maintain list of UIDS of occurrences of interloper for each nationality\n",
    "interloper_uids_by_nationality = {}\n",
    "for nationality in nationalities:\n",
    "    interloper_uids_by_nationality[nationality] = []\n",
    "\n",
    "for nationality in nationalities:\n",
    "    for uid, text in zip(df['UID'], df['text_cleaned_dealiased']):\n",
    "        if re.search(nationality + '.{0,15}interloper', text) is not None:\n",
    "            interloper_uids_by_nationality[nationality].append(uid)\n",
    "\n",
    "interloper_uids_by_nationality['no_nationality'] = []\n",
    "\n",
    "# Search for occurrences of interloper without nationality in front\n",
    "for uid, text in zip(df['UID'], df['text_cleaned_dealiased']):    \n",
    "    if 'interloper' in text and not any([nationality in text for nationality in nationalities]):\n",
    "        interloper_uids_by_nationality['no_nationality'].append(uid)\n",
    "\n",
    "for nationality, uids in interloper_uids_by_nationality.iteritems():\n",
    "    print nationality, len(uids)"
   ]
  },
  {
   "cell_type": "code",
   "execution_count": 36,
   "metadata": {
    "collapsed": true
   },
   "outputs": [],
   "source": [
    "# keyed by uid, values are list of nationalities\n",
    "interloper_by_uid = {}\n",
    "\n",
    "for nationality, uids in interloper_uids_by_nationality.iteritems():\n",
    "    for uid in uids:\n",
    "        if uid not in interloper_by_uid.keys():\n",
    "            interloper_by_uid[uid] = []\n",
    "        \n",
    "        interloper_by_uid[uid].append(nationality)\n",
    "            "
   ]
  },
  {
   "cell_type": "code",
   "execution_count": 38,
   "metadata": {},
   "outputs": [],
   "source": [
    "# Stringify the keys for easier conversion to excel\n",
    "interloper_by_uid_str = {}\n",
    "\n",
    "for k, v in interloper_by_uid.iteritems():\n",
    "    interloper_by_uid_str[k] = ','.join(v)"
   ]
  },
  {
   "cell_type": "code",
   "execution_count": 58,
   "metadata": {},
   "outputs": [],
   "source": [
    "interloper_df = pd.DataFrame.from_dict(interloper_by_uid_str, orient='index')\n",
    "interloper_df.reset_index(level=0, inplace=True)\n",
    "interloper_df.columns = ['UID', 'nationalities']\n",
    "interloper_df.sort_values(by='UID', inplace=True)"
   ]
  },
  {
   "cell_type": "code",
   "execution_count": 60,
   "metadata": {},
   "outputs": [],
   "source": [
    "interloper_df.to_csv('csv/uids_with_interloper.csv', index=False)"
   ]
  },
  {
   "cell_type": "code",
   "execution_count": null,
   "metadata": {
    "collapsed": true
   },
   "outputs": [],
   "source": []
  }
 ],
 "metadata": {
  "kernelspec": {
   "display_name": "Python 2",
   "language": "python",
   "name": "python2"
  },
  "language_info": {
   "codemirror_mode": {
    "name": "ipython",
    "version": 2
   },
   "file_extension": ".py",
   "mimetype": "text/x-python",
   "name": "python",
   "nbconvert_exporter": "python",
   "pygments_lexer": "ipython2",
   "version": "2.7.13"
  }
 },
 "nbformat": 4,
 "nbformat_minor": 2
}
