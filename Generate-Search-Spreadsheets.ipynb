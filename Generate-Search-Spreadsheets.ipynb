{
 "cells": [
  {
   "cell_type": "code",
   "execution_count": 11,
   "metadata": {
    "collapsed": true
   },
   "outputs": [],
   "source": [
    "import numpy as np\n",
    "import pandas as pd\n",
    "import matplotlib.pyplot as plt\n",
    "from ipywidgets import widgets\n",
    "from IPython.display import display, clear_output\n",
    "import matplotlib.style as style\n",
    "import os"
   ]
  },
  {
   "cell_type": "code",
   "execution_count": 5,
   "metadata": {
    "collapsed": true
   },
   "outputs": [],
   "source": [
    "# Load joined dataframe\n",
    "df = pd.read_csv('csv/metadata_text_merged_cleaned.csv')\n",
    "# Remove rows with empty text column for now\n",
    "df = df.dropna(subset=['text'])"
   ]
  },
  {
   "cell_type": "code",
   "execution_count": 10,
   "metadata": {
    "collapsed": true
   },
   "outputs": [],
   "source": [
    "queries = [['pirate', 'pirates'],\n",
    "           ['slaves'],\n",
    "           ['slave'],\n",
    "           ['gold'],\n",
    "           ['women'],\n",
    "           ['woman'],\n",
    "           ['women', 'woman'],\n",
    "           ['corn'],\n",
    "           ['palaver', 'palavers'],\n",
    "           ['panyar', 'panyarred', 'panyarring', 'panyars', 'panyarrs'],\n",
    "           ['perpetuanos'],\n",
    "           ['canoe', 'canoes'],\n",
    "           ['portuguese'],\n",
    "           ['dutch'],\n",
    "           ['adom', 'adoms'],\n",
    "           ['wasa', 'wasas']]"
   ]
  },
  {
   "cell_type": "code",
   "execution_count": 35,
   "metadata": {
    "scrolled": true
   },
   "outputs": [
    {
     "name": "stdout",
     "output_type": "stream",
     "text": [
      "Processing ['pirate', 'pirates']\n",
      "Processing ['slaves']\n",
      "Processing ['slave']\n",
      "Processing ['gold']\n",
      "Processing ['women']\n",
      "Processing ['woman']\n",
      "Processing ['women', 'woman']\n",
      "Processing ['corn']\n",
      "Processing ['palaver', 'palavers']\n",
      "Processing ['panyar', 'panyarred', 'panyarring', 'panyars', 'panyarrs']\n",
      "Processing ['perpetuanos']\n",
      "Processing ['canoe', 'canoes']\n",
      "Processing ['portuguese']\n",
      "Processing ['dutch']\n",
      "Processing ['adom', 'adoms']\n",
      "Processing ['wasa', 'wasas']\n"
     ]
    }
   ],
   "source": [
    "# DO NOT CHANGE ANYTHING BELOW!!!\n",
    "def return_terms_found(text, terms):\n",
    "    for term in terms:\n",
    "        if term in text.split(' '):\n",
    "            return True\n",
    "    \n",
    "    return False\n",
    "\n",
    "# Iterate over all term lists to query\n",
    "for terms in queries:\n",
    "    print 'Processing', terms\n",
    "    # Create directory for the query\n",
    "    term_dir = 'csv/for_mark/' + str('_'.join(terms))\n",
    "    os.mkdir(term_dir) \n",
    "    \n",
    "    # Filter df for query terms\n",
    "    df['filtered'] = df['text_cleaned_dealiased'].apply(return_terms_found, args=(terms,))\n",
    "    df_subset = df[df['filtered'] == True]\n",
    "\n",
    "    for column in ['Place Sent From', 'Sender', 'Boat/Fort', 'Ship Name']:\n",
    "        try:\n",
    "            df_subset[column].value_counts().to_csv(term_dir + '/' + 'By {}.csv'.format(column.replace('/', ' ')))\n",
    "        except:\n",
    "            print('ERROR: All metadata for this column, {} are null'.format(column))\n",
    "        try:\n",
    "            (df_subset[column].value_counts() / df[column].value_counts()).sort_values().dropna().to_csv(term_dir + '/' + 'By {}, Percentage.csv'.format(column.replace('/', ' ')))\n",
    "        except:\n",
    "            print('ERROR: All metadata for this column, {} are null'.format(column))\n",
    "\n",
    "    df_subset.groupby('Year').count()['UID'].to_csv(term_dir + '/' + 'Count By Year.csv')\n",
    "    (df_subset.groupby('Year').count()['UID'] / df.groupby('Year').count()['UID']).dropna().to_csv(term_dir + '/' + 'Count By Year, Percentage.csv')\n",
    "    df_subset.groupby('Month').count()['UID'].to_csv(term_dir + '/' + 'Count By Month.csv')\n",
    "    (df_subset.groupby('Month').count()['UID'] / df.groupby('Month').count()['UID']).dropna().to_csv(term_dir + '/' + 'Count By Month, Percentage.csv')"
   ]
  },
  {
   "cell_type": "code",
   "execution_count": null,
   "metadata": {
    "collapsed": true
   },
   "outputs": [],
   "source": []
  }
 ],
 "metadata": {
  "kernelspec": {
   "display_name": "Python 2",
   "language": "python",
   "name": "python2"
  },
  "language_info": {
   "codemirror_mode": {
    "name": "ipython",
    "version": 2
   },
   "file_extension": ".py",
   "mimetype": "text/x-python",
   "name": "python",
   "nbconvert_exporter": "python",
   "pygments_lexer": "ipython2",
   "version": "2.7.13"
  }
 },
 "nbformat": 4,
 "nbformat_minor": 2
}
