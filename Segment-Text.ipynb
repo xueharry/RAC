{
 "cells": [
  {
   "cell_type": "code",
   "execution_count": 19,
   "metadata": {
    "collapsed": true
   },
   "outputs": [],
   "source": [
    "import os\n",
    "import re\n",
    "import pandas as pd"
   ]
  },
  {
   "cell_type": "code",
   "execution_count": 10,
   "metadata": {
    "collapsed": true
   },
   "outputs": [],
   "source": [
    "SCAN_BASE_DIR = 'First Law Scans Cropped/'\n",
    "SCAN_DIRS = [SCAN_BASE_DIR + subdir + '/' for subdir in os.listdir(SCAN_BASE_DIR)]"
   ]
  },
  {
   "cell_type": "code",
   "execution_count": 66,
   "metadata": {},
   "outputs": [],
   "source": [
    "counter = 0\n",
    "\n",
    "# Regex for letter number heading\n",
    "letter_number_pattern = re.compile('^\\d+\\..*$')\n",
    "\n",
    "# Initialize empty dataframe for storing segmented text\n",
    "df = pd.DataFrame()\n",
    "\n",
    "for volume_dir in SCAN_DIRS:\n",
    "    id2filename = {}\n",
    "    \n",
    "    # Associate each filename with its numbered id\n",
    "    # so we can iterate in order through the files\n",
    "    for filename in os.listdir(volume_dir):\n",
    "        if '.txt' in filename:\n",
    "            id = filename.split('_')[0]\n",
    "            id2filename[int(id)] = filename\n",
    "    \n",
    "    for filename in id2filename.values():\n",
    "        with open(volume_dir + filename, 'r') as f:\n",
    "            contents = \"\"\n",
    "            \n",
    "            # TODO: Figure out why this hacky workaround is needed for reading the txt file\n",
    "            # Likely Jupyter environment issue\n",
    "            for line in f.readlines():\n",
    "                contents += line\n",
    "            \n",
    "            contents_list = contents.split('\\r')\n",
    "            \n",
    "            ptr = 0\n",
    "            num_lines = len(contents_list)\n",
    "\n",
    "            while ptr < num_lines:\n",
    "                # Look for section heading\n",
    "                if letter_number_pattern.match(contents_list[ptr]):\n",
    "                    section_title = contents_list[ptr]\n",
    "                    # Initialize string buffer for storing text for this section\n",
    "                    text_buffer = ''\n",
    "                    ptr += 1\n",
    "\n",
    "                    # Move pointer forward until next section heading or end of file encountered\n",
    "                    while ptr < num_lines and letter_number_pattern.match(contents_list[ptr]) is None:\n",
    "                        text_buffer += contents_list[ptr]\n",
    "                        ptr += 1\n",
    "\n",
    "                    # Append to dataframe\n",
    "                    df = df.append({\n",
    "                                    'filename': filename,\n",
    "                                    'section_title': section_title,\n",
    "                                    'text': text_buffer\n",
    "                                    }, \n",
    "                                    ignore_index=True)\n",
    "\n",
    "                # Otherwise advance pointer\n",
    "                else:\n",
    "                    ptr += 1\n"
   ]
  },
  {
   "cell_type": "code",
   "execution_count": 73,
   "metadata": {},
   "outputs": [],
   "source": [
    "# Export segmented text to csv\n",
    "df.to_csv('csv/segmented.csv', index=False)"
   ]
  }
 ],
 "metadata": {
  "kernelspec": {
   "display_name": "Python 2",
   "language": "python",
   "name": "python2"
  },
  "language_info": {
   "codemirror_mode": {
    "name": "ipython",
    "version": 2
   },
   "file_extension": ".py",
   "mimetype": "text/x-python",
   "name": "python",
   "nbconvert_exporter": "python",
   "pygments_lexer": "ipython2",
   "version": "2.7.13"
  }
 },
 "nbformat": 4,
 "nbformat_minor": 2
}
